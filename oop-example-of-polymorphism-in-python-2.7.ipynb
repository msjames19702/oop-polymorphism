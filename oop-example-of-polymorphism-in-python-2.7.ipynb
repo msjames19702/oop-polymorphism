{
 "cells": [
  {
   "cell_type": "code",
   "execution_count": 10,
   "metadata": {
    "collapsed": false
   },
   "outputs": [
    {
     "name": "stdout",
     "output_type": "stream",
     "text": [
      "Dog subclass instance created\n",
      "Cat subclass instance created\n",
      "Cow subclass instance created\n",
      "\n",
      "I'm a Dog\n",
      "I go Woof!\n",
      "I play fetch the ball!\n",
      "\n",
      "I'm a Cat\n",
      "I go Meow!\n",
      "I play with yarn!\n",
      "\n",
      "I'm a Cow\n",
      "I go Mmmmoooooo!\n",
      "I just like to eat hay!\n",
      "\n",
      "The species of a dog is mammal\n",
      "Mammals are warm blooded\n"
     ]
    }
   ],
   "source": [
    "# Create Animal() superclass object.\n",
    "class Animal(object):\n",
    "    \n",
    "    #Class Object Attribute\n",
    "    species = 'mammal'\n",
    "    bloodtype = 'warm blooded'\n",
    "    \n",
    "    def __init__(self):\n",
    "        pass\n",
    "        \n",
    "    def whoAmi(self):\n",
    "        print \"Animal\"\n",
    "        \n",
    "    def eat(self):\n",
    "        print \"Eating\"\n",
    "\n",
    "# Create Dog() subclass object and functions. Make use of Inheritance.\n",
    "class Dog(Animal):\n",
    "    def __init__(self):\n",
    "        Animal.__init__(self)\n",
    "        print \"Dog subclass instance created\"\n",
    "        \n",
    "    def whoAmi(self):\n",
    "        print \"I'm a Dog\"\n",
    "        \n",
    "    def sound(self):\n",
    "        print \"I go Woof!\"\n",
    "        \n",
    "    def whatIdo(self):\n",
    "        print \"I play fetch the ball!\"\n",
    "\n",
    "# Create Cat() subclass object and functions. Make use of Inheritance.\n",
    "class Cat(Animal):\n",
    "    def __init__(self):\n",
    "        Animal.__init__(self)\n",
    "        print \"Cat subclass instance created\"\n",
    "        \n",
    "    def whoAmi(self):\n",
    "        print \"I'm a Cat\"\n",
    "        \n",
    "    def sound(self):\n",
    "        print \"I go Meow!\"\n",
    "        \n",
    "    def whatIdo(self):\n",
    "        print \"I play with yarn!\"\n",
    "\n",
    "# Create Cow() subclass object and functions. Make use of Inheritance.\n",
    "\n",
    "class Cow(Animal):\n",
    "    def __init__(self):\n",
    "        Animal.__init__(self)\n",
    "        print \"Cow subclass instance created\"\n",
    "        \n",
    "    def whoAmi(self):\n",
    "        print \"I'm a Cow\"\n",
    "        \n",
    "    def sound(self):\n",
    "        print \"I go Mmmmoooooo!\"\n",
    "        \n",
    "    def whatIdo(self):\n",
    "        print \"I just like to eat hay!\"\n",
    "        \n",
    "# Create object instances Animal(), Dog(), Cat() and Cow()\n",
    "\n",
    "animalObject = Animal()\n",
    "dogObject = Dog()\n",
    "catObject = Cat()\n",
    "cowObject = Cow()\n",
    "        \n",
    "# Functional polymorphisms\n",
    "\n",
    "def whatAmi(animaltype):\n",
    "    animaltype.whoAmi()\n",
    "    \n",
    "def soundImake(animalsound):\n",
    "    animalsound.sound()\n",
    "    \n",
    "def iDo(animaldoes):\n",
    "    animaldoes.whatIdo()\n",
    "\n",
    "# Calling objects as parameters to make use of polymorphism\n",
    "\n",
    "print\"\"\n",
    "whatAmi(dogObject)\n",
    "soundImake(dogObject)\n",
    "iDo(dogObject)\n",
    "print \"\"\n",
    "\n",
    "whatAmi(catObject)\n",
    "soundImake(catObject)\n",
    "iDo(catObject)\n",
    "print \"\"\n",
    "\n",
    "whatAmi(cowObject)\n",
    "soundImake(cowObject)\n",
    "iDo(cowObject)\n",
    "print \"\"\n",
    "\n",
    "# Making use of class objects but not using polymorphism\n",
    "\n",
    "print \"The species of a dog is \"+dogObject.species\n",
    "print \"Mammals are \"+catObject.bloodtype"
   ]
  },
  {
   "cell_type": "code",
   "execution_count": 11,
   "metadata": {
    "collapsed": false
   },
   "outputs": [
    {
     "data": {
      "text/plain": [
       "'mammal'"
      ]
     },
     "execution_count": 11,
     "metadata": {},
     "output_type": "execute_result"
    }
   ],
   "source": [
    "Cat.species"
   ]
  },
  {
   "cell_type": "code",
   "execution_count": 14,
   "metadata": {
    "collapsed": false
   },
   "outputs": [
    {
     "name": "stdout",
     "output_type": "stream",
     "text": [
      "I go Meow!\n"
     ]
    }
   ],
   "source": [
    "catObject.sound()"
   ]
  },
  {
   "cell_type": "code",
   "execution_count": 9,
   "metadata": {
    "collapsed": false
   },
   "outputs": [
    {
     "name": "stdout",
     "output_type": "stream",
     "text": [
      "Eating\n"
     ]
    }
   ],
   "source": [
    "animalObject.eat()"
   ]
  },
  {
   "cell_type": "code",
   "execution_count": null,
   "metadata": {
    "collapsed": true
   },
   "outputs": [],
   "source": []
  }
 ],
 "metadata": {
  "kernelspec": {
   "display_name": "Python 2",
   "language": "python",
   "name": "python2"
  },
  "language_info": {
   "codemirror_mode": {
    "name": "ipython",
    "version": 2
   },
   "file_extension": ".py",
   "mimetype": "text/x-python",
   "name": "python",
   "nbconvert_exporter": "python",
   "pygments_lexer": "ipython2",
   "version": "2.7.13"
  }
 },
 "nbformat": 4,
 "nbformat_minor": 2
}
