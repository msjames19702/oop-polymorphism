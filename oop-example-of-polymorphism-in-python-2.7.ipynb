{
 "cells": [
  {
   "cell_type": "code",
   "execution_count": null,
   "metadata": {
    "collapsed": false
   },
   "outputs": [],
   "source": []
  },
  {
   "cell_type": "code",
   "execution_count": 4,
   "metadata": {
    "collapsed": false
   },
   "outputs": [
    {
     "name": "stdout",
     "output_type": "stream",
     "text": [
      "\n",
      "Dog says ...\n",
      "I'm a Dog\n",
      "I go Woof!\n",
      "I play fetch the ball!\n",
      "\n",
      "Cat says ...\n",
      "I'm a Cat\n",
      "I go meow!\n",
      "I play with yard!\n",
      "\n",
      "Wolf says ...\n",
      "I'm a Dog\n",
      "I go Woof!\n",
      "I play fetch the ball!\n",
      "\n",
      "Tiger says ...\n",
      "I'm a Cat\n",
      "I go meow!\n",
      "I play with yard!\n"
     ]
    }
   ],
   "source": [
    "# Create Animal() superclass object.\n",
    "class Animal(object):\n",
    "    \n",
    "    #Class Object Attribute\n",
    "    species = 'mammal'\n",
    "    bloodtype = 'warm blooded'\n",
    "    \n",
    "    def __init__(self):\n",
    "        pass\n",
    "    \n",
    "    def whoAmi(self):\n",
    "        print \"Animal\"\n",
    "    \n",
    "    def eat(self):\n",
    "        print \"Eating\"\n",
    "\n",
    "# Create Dog() subclass object and functions. Make use of Inheritance.\n",
    "class Dog(Animal):\n",
    "    def __init__(self):\n",
    "        Animal.__init__(self)\n",
    "        pass\n",
    "    \n",
    "    def whoAmi(self):\n",
    "        print \"I'm a Dog\"\n",
    "    \n",
    "    def sound(self):\n",
    "        print \"I go Woof!\"\n",
    "        \n",
    "    def whatIdo(self):\n",
    "        print \"I play fetch the ball!\"\n",
    "        \n",
    "\n",
    "# Create Cat() subclass object and functions. Make use of Inheritance.\n",
    "class Cat(Animal):\n",
    "    def __init__(self):\n",
    "        Animal.__init__(self)\n",
    "        pass\n",
    "    \n",
    "    def whoAmi(self):\n",
    "        print \"I'm a Cat\"\n",
    "    \n",
    "    def sound(self):\n",
    "        print \"I go meow!\"\n",
    "        \n",
    "    def whatIdo(self):\n",
    "        print \"I play with yard!\"\n",
    "\n",
    "# Create polymorphic object instances Dog() & Cat()\n",
    "\n",
    "dogObject = Dog()\n",
    "catObject = Cat()\n",
    "wolfObject = Dog()\n",
    "tigerObject = Cat()\n",
    "\n",
    "# Functional polymorphisms\n",
    "\n",
    "def whatAmi(animaltype):\n",
    "    animaltype.whoAmi()\n",
    "\n",
    "def soundImake(animalsound):\n",
    "    animalsound.sound()\n",
    "\n",
    "def iDo(animaldoes):\n",
    "    animaldoes.whatIdo()\n",
    "    \n",
    "# Calling the above functions with objects as arguments to illustrate polymorphism\n",
    "print \"\"\n",
    "print \"Dog says ...\"\n",
    "whatAmi(dogObject)\n",
    "soundImake(dogObject)\n",
    "iDo(dogObject)\n",
    "print \"\"\n",
    "print \"Cat says ...\"\n",
    "whatAmi(catObject)\n",
    "soundImake(catObject)\n",
    "iDo(catObject)\n",
    "print \"\"\n",
    "print \"Wolf says ...\"\n",
    "whatAmi(wolfObject)\n",
    "soundImake(wolfObject)\n",
    "iDo(wolfObject)\n",
    "print \"\"\n",
    "print \"Tiger says ...\"\n",
    "whatAmi(tigerObject)\n",
    "soundImake(tigerObject)\n",
    "iDo(tigerObject)"
   ]
  },
  {
   "cell_type": "code",
   "execution_count": null,
   "metadata": {
    "collapsed": true
   },
   "outputs": [],
   "source": []
  }
 ],
 "metadata": {
  "kernelspec": {
   "display_name": "Python 2",
   "language": "python",
   "name": "python2"
  },
  "language_info": {
   "codemirror_mode": {
    "name": "ipython",
    "version": 2
   },
   "file_extension": ".py",
   "mimetype": "text/x-python",
   "name": "python",
   "nbconvert_exporter": "python",
   "pygments_lexer": "ipython2",
   "version": "2.7.13"
  }
 },
 "nbformat": 4,
 "nbformat_minor": 2
}
